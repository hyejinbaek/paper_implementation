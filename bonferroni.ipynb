{
 "cells": [
  {
   "cell_type": "markdown",
   "metadata": {},
   "source": [
    "python 3.8일때, orange=3.25 설치 하여 사용 가능\n",
    "\n",
    "총 23개 데이터셋(breast 포함) CD 값 : 1.1647\n",
    "총 22개 데이터셋(breast 제외) CD 값 : 1.1908"
   ]
  },
  {
   "cell_type": "code",
   "execution_count": 9,
   "metadata": {},
   "outputs": [
    {
     "name": "stdout",
     "output_type": "stream",
     "text": [
      "/usr/bin/pip:6: DeprecationWarning: pkg_resources is deprecated as an API. See https://setuptools.pypa.io/en/latest/pkg_resources.html\n",
      "  from pkg_resources import load_entry_point\n",
      "Collecting orange3==3.25\n",
      "  Downloading Orange3-3.25.0-cp38-cp38-manylinux1_x86_64.whl (2.6 MB)\n",
      "\u001b[K     |████████████████████████████████| 2.6 MB 10.0 MB/s eta 0:00:01\n",
      "\u001b[?25hRequirement already satisfied: AnyQt>=0.0.8 in /userHome/userhome2/hyejin/.local/lib/python3.8/site-packages (from orange3==3.25) (0.2.0)\n",
      "Requirement already satisfied: baycomp>=1.0.2 in /userHome/userhome2/hyejin/.local/lib/python3.8/site-packages (from orange3==3.25) (1.0.3)\n",
      "Requirement already satisfied: bottleneck>=1.0.0 in /userHome/userhome2/hyejin/.local/lib/python3.8/site-packages (from orange3==3.25) (1.3.7)\n",
      "Requirement already satisfied: chardet>=3.0.2 in /usr/lib/python3/dist-packages (from orange3==3.25) (3.0.4)\n",
      "Requirement already satisfied: docutils in /userHome/userhome2/hyejin/.local/lib/python3.8/site-packages (from orange3==3.25) (0.20.1)\n",
      "Requirement already satisfied: httpx~=0.12 in /userHome/userhome2/hyejin/.local/lib/python3.8/site-packages (from orange3==3.25) (0.25.2)\n",
      "Requirement already satisfied: joblib>=0.9.4 in /userHome/userhome2/hyejin/.local/lib/python3.8/site-packages (from orange3==3.25) (1.3.2)\n",
      "Requirement already satisfied: keyring in /usr/lib/python3/dist-packages (from orange3==3.25) (18.0.1)\n",
      "Requirement already satisfied: keyrings.alt in /userHome/userhome2/hyejin/.local/lib/python3.8/site-packages (from orange3==3.25) (5.0.0)\n",
      "Requirement already satisfied: matplotlib>=2.0.0 in /userHome/userhome2/hyejin/.local/lib/python3.8/site-packages (from orange3==3.25) (3.7.4)\n",
      "Requirement already satisfied: networkx in /userHome/userhome2/hyejin/.local/lib/python3.8/site-packages (from orange3==3.25) (3.1)\n",
      "Requirement already satisfied: numpy>=1.16.0 in /userHome/userhome2/hyejin/.local/lib/python3.8/site-packages (from orange3==3.25) (1.24.4)\n",
      "Requirement already satisfied: openTSNE>=0.3.11 in /userHome/userhome2/hyejin/.local/lib/python3.8/site-packages (from orange3==3.25) (1.0.1)\n",
      "Requirement already satisfied: openpyxl in /userHome/userhome2/hyejin/.local/lib/python3.8/site-packages (from orange3==3.25) (3.1.2)\n",
      "Requirement already satisfied: orange-canvas-core<0.2a,>=0.1.9 in /userHome/userhome2/hyejin/.local/lib/python3.8/site-packages (from orange3==3.25) (0.1.35)\n",
      "Requirement already satisfied: orange-widget-base>=4.5.0 in /userHome/userhome2/hyejin/.local/lib/python3.8/site-packages (from orange3==3.25) (4.23.0)\n",
      "Requirement already satisfied: pandas in /userHome/userhome2/hyejin/.local/lib/python3.8/site-packages (from orange3==3.25) (2.0.3)\n",
      "Requirement already satisfied: pip>=9.0 in /usr/lib/python3/dist-packages (from orange3==3.25) (20.0.2)\n",
      "Requirement already satisfied: pyqtgraph>=0.10.0 in /userHome/userhome2/hyejin/.local/lib/python3.8/site-packages (from orange3==3.25) (0.13.3)\n",
      "Requirement already satisfied: python-louvain>=0.13 in /userHome/userhome2/hyejin/.local/lib/python3.8/site-packages (from orange3==3.25) (0.16)\n",
      "Requirement already satisfied: pyyaml in /usr/lib/python3/dist-packages (from orange3==3.25) (5.3.1)\n",
      "Requirement already satisfied: requests in /usr/lib/python3/dist-packages (from orange3==3.25) (2.22.0)\n",
      "Requirement already satisfied: scikit-learn>=0.22.0 in /userHome/userhome2/hyejin/.local/lib/python3.8/site-packages (from orange3==3.25) (1.3.2)\n",
      "Requirement already satisfied: scipy>=0.16.1 in /userHome/userhome2/hyejin/.local/lib/python3.8/site-packages (from orange3==3.25) (1.10.1)\n",
      "Requirement already satisfied: serverfiles in /userHome/userhome2/hyejin/.local/lib/python3.8/site-packages (from orange3==3.25) (0.3.1)\n",
      "Requirement already satisfied: setuptools>=36.3 in /userHome/userhome2/hyejin/.local/lib/python3.8/site-packages (from orange3==3.25) (69.0.2)\n",
      "Requirement already satisfied: xlrd>=0.9.2 in /userHome/userhome2/hyejin/.local/lib/python3.8/site-packages (from orange3==3.25) (2.0.1)\n",
      "Requirement already satisfied: xlsxwriter in /userHome/userhome2/hyejin/.local/lib/python3.8/site-packages (from orange3==3.25) (3.1.9)\n",
      "Requirement already satisfied: anyio in /userHome/userhome2/hyejin/.local/lib/python3.8/site-packages (from httpx~=0.12->orange3==3.25) (4.2.0)\n",
      "Requirement already satisfied: certifi in /usr/lib/python3/dist-packages (from httpx~=0.12->orange3==3.25) (2019.11.28)\n",
      "Requirement already satisfied: httpcore==1.* in /userHome/userhome2/hyejin/.local/lib/python3.8/site-packages (from httpx~=0.12->orange3==3.25) (1.0.2)\n",
      "Requirement already satisfied: idna in /usr/lib/python3/dist-packages (from httpx~=0.12->orange3==3.25) (2.8)\n",
      "Requirement already satisfied: sniffio in /userHome/userhome2/hyejin/.local/lib/python3.8/site-packages (from httpx~=0.12->orange3==3.25) (1.3.0)\n",
      "Requirement already satisfied: secretstorage in /usr/lib/python3/dist-packages (from keyring->orange3==3.25) (2.3.1)\n",
      "Requirement already satisfied: jaraco.classes in /userHome/userhome2/hyejin/.local/lib/python3.8/site-packages (from keyrings.alt->orange3==3.25) (3.3.0)\n",
      "Requirement already satisfied: contourpy>=1.0.1 in /userHome/userhome2/hyejin/.local/lib/python3.8/site-packages (from matplotlib>=2.0.0->orange3==3.25) (1.1.1)\n",
      "Requirement already satisfied: cycler>=0.10 in /userHome/userhome2/hyejin/.local/lib/python3.8/site-packages (from matplotlib>=2.0.0->orange3==3.25) (0.12.1)\n",
      "Requirement already satisfied: fonttools>=4.22.0 in /userHome/userhome2/hyejin/.local/lib/python3.8/site-packages (from matplotlib>=2.0.0->orange3==3.25) (4.46.0)\n",
      "Requirement already satisfied: kiwisolver>=1.0.1 in /userHome/userhome2/hyejin/.local/lib/python3.8/site-packages (from matplotlib>=2.0.0->orange3==3.25) (1.4.5)\n",
      "Requirement already satisfied: packaging>=20.0 in /userHome/userhome2/hyejin/.local/lib/python3.8/site-packages (from matplotlib>=2.0.0->orange3==3.25) (23.2)\n",
      "Requirement already satisfied: pillow>=6.2.0 in /usr/lib/python3/dist-packages (from matplotlib>=2.0.0->orange3==3.25) (7.0.0)\n",
      "Requirement already satisfied: pyparsing>=2.3.1 in /usr/lib/python3/dist-packages (from matplotlib>=2.0.0->orange3==3.25) (2.4.6)\n",
      "Requirement already satisfied: python-dateutil>=2.7 in /userHome/userhome2/hyejin/.local/lib/python3.8/site-packages (from matplotlib>=2.0.0->orange3==3.25) (2.8.2)\n",
      "Requirement already satisfied: importlib-resources>=3.2.0; python_version < \"3.10\" in /userHome/userhome2/hyejin/.local/lib/python3.8/site-packages (from matplotlib>=2.0.0->orange3==3.25) (6.1.1)\n",
      "Requirement already satisfied: et-xmlfile in /userHome/userhome2/hyejin/.local/lib/python3.8/site-packages (from openpyxl->orange3==3.25) (1.1.0)\n",
      "Requirement already satisfied: commonmark>=0.8.1 in /userHome/userhome2/hyejin/.local/lib/python3.8/site-packages (from orange-canvas-core<0.2a,>=0.1.9->orange3==3.25) (0.9.1)\n",
      "Requirement already satisfied: requests-cache in /userHome/userhome2/hyejin/.local/lib/python3.8/site-packages (from orange-canvas-core<0.2a,>=0.1.9->orange3==3.25) (1.1.1)\n",
      "Requirement already satisfied: dictdiffer in /userHome/userhome2/hyejin/.local/lib/python3.8/site-packages (from orange-canvas-core<0.2a,>=0.1.9->orange3==3.25) (0.9.0)\n",
      "Requirement already satisfied: qasync>=0.10.0 in /userHome/userhome2/hyejin/.local/lib/python3.8/site-packages (from orange-canvas-core<0.2a,>=0.1.9->orange3==3.25) (0.27.1)\n",
      "Requirement already satisfied: typing-extensions>=3.7.4.3 in /userHome/userhome2/hyejin/.local/lib/python3.8/site-packages (from orange-widget-base>=4.5.0->orange3==3.25) (4.9.0)\n",
      "Requirement already satisfied: pytz>=2020.1 in /userHome/userhome2/hyejin/.local/lib/python3.8/site-packages (from pandas->orange3==3.25) (2023.3)\n",
      "Requirement already satisfied: tzdata>=2022.1 in /userHome/userhome2/hyejin/.local/lib/python3.8/site-packages (from pandas->orange3==3.25) (2023.3)\n",
      "Requirement already satisfied: threadpoolctl>=2.0.0 in /userHome/userhome2/hyejin/.local/lib/python3.8/site-packages (from scikit-learn>=0.22.0->orange3==3.25) (3.2.0)\n",
      "Requirement already satisfied: exceptiongroup>=1.0.2; python_version < \"3.11\" in /userHome/userhome2/hyejin/.local/lib/python3.8/site-packages (from anyio->httpx~=0.12->orange3==3.25) (1.2.0)\n",
      "Requirement already satisfied: h11<0.15,>=0.13 in /userHome/userhome2/hyejin/.local/lib/python3.8/site-packages (from httpcore==1.*->httpx~=0.12->orange3==3.25) (0.14.0)\n",
      "Requirement already satisfied: more-itertools in /usr/lib/python3/dist-packages (from jaraco.classes->keyrings.alt->orange3==3.25) (4.2.0)\n",
      "Requirement already satisfied: six>=1.5 in /usr/lib/python3/dist-packages (from python-dateutil>=2.7->matplotlib>=2.0.0->orange3==3.25) (1.14.0)\n",
      "Requirement already satisfied: zipp>=3.1.0; python_version < \"3.10\" in /userHome/userhome2/hyejin/.local/lib/python3.8/site-packages (from importlib-resources>=3.2.0; python_version < \"3.10\"->matplotlib>=2.0.0->orange3==3.25) (3.17.0)\n",
      "Requirement already satisfied: attrs>=21.2 in /userHome/userhome2/hyejin/.local/lib/python3.8/site-packages (from requests-cache->orange-canvas-core<0.2a,>=0.1.9->orange3==3.25) (23.1.0)\n",
      "Requirement already satisfied: cattrs>=22.2 in /userHome/userhome2/hyejin/.local/lib/python3.8/site-packages (from requests-cache->orange-canvas-core<0.2a,>=0.1.9->orange3==3.25) (23.2.3)\n",
      "Requirement already satisfied: platformdirs>=2.5 in /userHome/userhome2/hyejin/.local/lib/python3.8/site-packages (from requests-cache->orange-canvas-core<0.2a,>=0.1.9->orange3==3.25) (4.1.0)\n",
      "Requirement already satisfied: url-normalize>=1.4 in /userHome/userhome2/hyejin/.local/lib/python3.8/site-packages (from requests-cache->orange-canvas-core<0.2a,>=0.1.9->orange3==3.25) (1.4.3)\n",
      "Requirement already satisfied: urllib3>=1.25.5 in /usr/lib/python3/dist-packages (from requests-cache->orange-canvas-core<0.2a,>=0.1.9->orange3==3.25) (1.25.8)\n",
      "Installing collected packages: orange3\n",
      "  Attempting uninstall: orange3\n",
      "    Found existing installation: Orange3 3.36.2\n",
      "    Uninstalling Orange3-3.36.2:\n",
      "      Successfully uninstalled Orange3-3.36.2\n",
      "Successfully installed orange3-3.25.0\n"
     ]
    }
   ],
   "source": [
    "!pip install orange3==3.25"
   ]
  },
  {
   "cell_type": "code",
   "execution_count": 14,
   "metadata": {},
   "outputs": [
    {
     "name": "stdout",
     "output_type": "stream",
     "text": [
      "[2.2  2.64 3.72 1.44]\n",
      "Critical Difference =  0.8921911230224161\n"
     ]
    },
    {
     "data": {
      "image/png": "[encoded data removed]",
      "text/plain": [
       "<Figure size 360x93.6 with 1 Axes>"
      ]
     },
     "metadata": {},
     "output_type": "display_data"
    },
    {
     "data": {
      "image/png": "[encoded data removed]",
      "text/plain": [
       "<Figure size 360x118.8 with 1 Axes>"
      ]
     },
     "metadata": {},
     "output_type": "display_data"
    }
   ],
   "source": [
    "# 본페로니 듄테스트\n",
    "import numpy as np\n",
    "import scipy.stats as st\n",
    "import Orange\n",
    "from Orange.evaluation import compute_CD\n",
    "import matplotlib.pyplot as plt\n",
    "\n",
    "# RMSE 데이터\n",
    "DataWig = [0.5641, 0.3699, 0.2146, 0.2786, 0.2516, 0.8653, 0.3636, 0.261, 0.5095, 0.4574, 0.5403, 0.2783, 0.1475, 0.1748, 0.2621, 0.2543, 0.2884, 0.2698, 0.1641, 0.1724, 0.3368, 0.4654, 0.1613, 0.2222, 0.3853]\n",
    "Knn = [0.7109, 0.4442, 0.2582, 0.2589, 0.0893, 1.1979, 0.3449, 0.3243, 0.5531, 0.4302, 0.7072, 0.3055, 0.1693, 0.1883, 0.3186, 0.2397, 0.3589, 0.2819, 0.1637, 0.2448, 0.3905, 0.4182, 0.1726, 0.3045, 0.403]\n",
    "SE = [0.6371, 0.7026, 0.5803, 0.683, 0.692, 0.3895, 0.6285, 0.246, 0.6562, 0.7228, 0.6469, 0.4986, 0.6622, 0.7074, 0.3842, 0.6346, 0.6943, 0.4786, 0.6207, 0.3185, 0.7025, 0.9933, 1.2148, 1.2584, 0.5213]\n",
    "proposed = [0.3535, 0.3476, 0.2103, 0.2775, 0.2054, 0.2863, 0.441, 0.2544, 0.1713, 0.4695, 0.3052, 0.2336, 0.1466, 0.1744, 0.2637, 0.2528, 0.2826, 0.26, 0.1719, 0.1723, 0.3032, 0.4088, 0.152, 0.2208, 0.3532]\n",
    "\n",
    "# DataWig = [0.5641, 0.3699, 0.2146, 0.2786, 0.2516, 0.8653, 0.3636, 0.261, 0.5095, 0.4574, 0.5403, 0.2783, 0.1475, 0.1748, 0.2621, 0.2543, 0.2884, 0.2698, 0.1641, 0.1724, 0.3368, 0.4654]\n",
    "# Knn = [0.7109, 0.4442, 0.2582, 0.2589, 0.0893, 1.1979, 0.3449, 0.3243, 0.5531, 0.4302, 0.7072, 0.3055, 0.1693, 0.1883, 0.3186, 0.2397, 0.3589, 0.2819, 0.1637, 0.2448, 0.3905, 0.4182]\n",
    "# SE = [0.6371, 0.7026, 0.5803, 0.683, 0.692, 0.3895, 0.6285, 0.246, 0.6562, 0.7228, 0.6469, 0.4986, 0.6622, 0.7074, 0.3842, 0.6346, 0.6943, 0.4786, 0.6207, 0.3185, 0.7025, 0.9933]\n",
    "# proposed = [0.3535, 0.3476, 0.2103, 0.2775, 0.2054, 0.2863, 0.441, 0.2544, 0.1713, 0.4695, 0.3052, 0.2336, 0.1466, 0.1744, 0.2637, 0.2528, 0.2826, 0.26, 0.1719, 0.1723, 0.3032, 0.4088]\n",
    "\n",
    "\n",
    "# 데이터셋 개수\n",
    "N = 25\n",
    "\n",
    "# 각 method의 순위 계산 (수정된 부분)\n",
    "# 이 부분은 accuracy 할 때 순위 계산되는 부분\n",
    "# ranks = np.argsort(np.argsort(-np.vstack((DataWig, Knn, SE, proposed)), axis=0), axis=0) + 1\n",
    "# 이 부분은 rmse 할 때 순위 계산되는 부분\n",
    "ranks = np.argsort(np.argsort(np.vstack((DataWig, Knn, SE, proposed)), axis=0), axis=0) + 1\n",
    "\n",
    "\n",
    "# 각 method의 평균 순위 계산\n",
    "average_ranks = np.mean(ranks, axis=1)\n",
    "print(average_ranks)\n",
    "# method의 이름\n",
    "names = ['DataWig', 'Knn', 'SE', 'proposed']\n",
    "\n",
    "def compute(avranks):\n",
    "    # CD\n",
    "    cd = Orange.evaluation.compute_CD(avranks, N, alpha=\"0.05\", test=\"bonferroni-dunn\")\n",
    "    print(\"Critical Difference = \", cd)\n",
    "\n",
    "    # CD 막대기 proposd 기준 좌우로 표시하기\n",
    "    Orange.evaluation.graph_ranks(avranks, names, cd=cd, width=5, textspace=1.0, cdmethod=0)\n",
    "    plt.show()\n",
    "\n",
    "    # CD 막대기 위쪽에 따로 표시하기\n",
    "    Orange.evaluation.graph_ranks(avranks, names, cd=cd, width=5, textspace=1.0)\n",
    "    plt.show()\n",
    "\n",
    "# average_ranks를 활용하여 compute 함수 호출\n",
    "compute(average_ranks)"
   ]
  },
  {
   "cell_type": "code",
   "execution_count": null,
   "metadata": {},
   "outputs": [],
   "source": []
  }
 ],
 "metadata": {
  "kernelspec": {
   "display_name": "statistical_test",
   "language": "python",
   "name": "python3"
  },
  "language_info": {
   "codemirror_mode": {
    "name": "ipython",
    "version": 3
   },
   "file_extension": ".py",
   "mimetype": "text/x-python",
   "name": "python",
   "nbconvert_exporter": "python",
   "pygments_lexer": "ipython3",
   "version": "3.8.10"
  }
 },
 "nbformat": 4,
 "nbformat_minor": 2
}
